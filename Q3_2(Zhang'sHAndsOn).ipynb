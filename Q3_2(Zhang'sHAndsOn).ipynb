{
 "cells": [
  {
   "cell_type": "code",
   "execution_count": 2,
   "metadata": {},
   "outputs": [],
   "source": [
    "import numpy as np\n",
    "import cv2\n",
    "import glob\n",
    "\n",
    "# termination criteria\n",
    "criteria = (cv2.TERM_CRITERIA_EPS + cv2.TERM_CRITERIA_MAX_ITER, 30, 0.001)\n",
    "\n",
    "# prepare object points, like (0,0,0), (1,0,0), (2,0,0) ....,(6,5,0)\n",
    "objp = np.zeros((6*9,3), np.float32)\n",
    "objp[:,:2] = np.mgrid[0:9,0:6].T.reshape(-1,2)\n",
    "# Arrays to store object points and image points from all the images.\n",
    "objpoints = [] # 3d point in real world space\n",
    "imgpoints = [] # 2d points in image plane.\n",
    "rotation_mat = np.zeros(shape=(3, 3))\n",
    "#images = glob.glob('*.jpg')\n",
    "for i in range(1,18,1):\n",
    "    img = cv2.imread('./HandsOn/IMG_'+str(i)+'.jpg')\n",
    "    gray = cv2.cvtColor(img,cv2.COLOR_BGR2GRAY)\n",
    "\n",
    "    # Find the chess board corners\n",
    "    ret, corners = cv2.findChessboardCorners(gray, (9,6),None)\n",
    "    #print(ret)\n",
    "    # If found, add object points, image points (after refining them)\n",
    "    if ret == True:\n",
    "        objpoints.append(objp)\n",
    "\n",
    "        corners2 = cv2.cornerSubPix(gray,corners,(11,11),(-1,-1),criteria)\n",
    "        imgpoints.append(corners2)\n",
    "        \n",
    "        # Draw and display the corners\n",
    "        img = cv2.drawChessboardCorners(img, (9,6), corners2,ret)\n",
    "        cv2.imwrite('img'+str(i)+'.jpg',img)\n",
    "        #cv2.imshow('img',img)\n",
    "        #cv2.waitKey(500)\n",
    "\n",
    "cv2.destroyAllWindows()\n",
    "ret, mtx, dist, rvecs, tvecs = cv2.calibrateCamera(objpoints, imgpoints, gray.shape[::-1],None,None)\n",
    "R = cv2.Rodrigues(rvecs[0], rotation_mat)[0]\n",
    "P = np.column_stack((np.matmul(mtx,R),np.matmul(mtx,tvecs[0])))\n",
    "P=P/P[2,3]\n"
   ]
  },
  {
   "cell_type": "code",
   "execution_count": 3,
   "metadata": {},
   "outputs": [
    {
     "name": "stdout",
     "output_type": "stream",
     "text": [
      "Camera Matrix: [[3.95667606e+03 0.00000000e+00 7.10247209e+02]\n",
      " [0.00000000e+00 3.88535462e+03 1.05592942e+02]\n",
      " [0.00000000e+00 0.00000000e+00 1.00000000e+00]]\n",
      "Rotaion Matrix: [[-0.57797587  0.52617304 -0.62376744]\n",
      " [-0.68532909 -0.72793127  0.02097876]\n",
      " [-0.44302137  0.43961119  0.7813284 ]]\n",
      "Projection Matrix: [[-1.36727181e+02  1.25827497e+02 -1.00546703e+02  1.38388797e+03]\n",
      " [-1.42403750e+02 -1.46204903e+02  8.61996341e+00  2.21644402e+03]\n",
      " [-2.32837381e-02  2.31045102e-02  4.10640367e-02  1.00000000e+00]]\n"
     ]
    }
   ],
   "source": [
    "print('Camera Matrix:',mtx)\n",
    "print('Rotaion Matrix:',R)\n",
    "print('Projection Matrix:',P)"
   ]
  },
  {
   "cell_type": "code",
   "execution_count": 4,
   "metadata": {},
   "outputs": [],
   "source": [
    "#After Changing the focus\n",
    "import numpy as np\n",
    "import cv2\n",
    "import glob\n",
    "\n",
    "# termination criteria\n",
    "criteria = (cv2.TERM_CRITERIA_EPS + cv2.TERM_CRITERIA_MAX_ITER, 30, 0.001)\n",
    "\n",
    "# prepare object points, like (0,0,0), (1,0,0), (2,0,0) ....,(6,5,0)\n",
    "objp = np.zeros((6*9,3), np.float32)\n",
    "objp[:,:2] = np.mgrid[0:9,0:6].T.reshape(-1,2)\n",
    "# Arrays to store object points and image points from all the images.\n",
    "objpoints = [] # 3d point in real world space\n",
    "imgpoints = [] # 2d points in image plane.\n",
    "rotation_mat = np.zeros(shape=(3, 3))\n",
    "#images = glob.glob('*.jpg')\n",
    "for i in range(1,18,1):\n",
    "    img = cv2.imread('./HandsOn/IM_'+str(i)+'.jpg')\n",
    "    \n",
    "    gray = cv2.cvtColor(img,cv2.COLOR_BGR2GRAY)\n",
    "\n",
    "    # Find the chess board corners\n",
    "    ret, corners = cv2.findChessboardCorners(gray, (9,6),None)\n",
    "    #print(ret)\n",
    "    # If found, add object points, image points (after refining them)\n",
    "    if ret == True:\n",
    "        objpoints.append(objp)\n",
    "\n",
    "        corners2 = cv2.cornerSubPix(gray,corners,(11,11),(-1,-1),criteria)\n",
    "        imgpoints.append(corners2)\n",
    "        \n",
    "        # Draw and display the corners\n",
    "        img = cv2.drawChessboardCorners(img, (9,6), corners2,ret)\n",
    "        cv2.imwrite('img'+str(i)+'.jpg',img)\n",
    "        #cv2.imshow('img',img)\n",
    "        #cv2.waitKey(500)\n",
    "\n",
    "cv2.destroyAllWindows()\n",
    "ret, mtx, dist, rvecs, tvecs = cv2.calibrateCamera(objpoints, imgpoints, gray.shape[::-1],None,None)\n",
    "R = cv2.Rodrigues(rvecs[0], rotation_mat)[0]\n",
    "P = np.column_stack((np.matmul(mtx,R),np.matmul(mtx,tvecs[0])))\n",
    "P=P/P[2,3]\n"
   ]
  },
  {
   "cell_type": "code",
   "execution_count": 6,
   "metadata": {},
   "outputs": [
    {
     "name": "stdout",
     "output_type": "stream",
     "text": [
      "Camera Matrix: [[3.97399370e+03 0.00000000e+00 1.49676828e+03]\n",
      " [0.00000000e+00 4.04303442e+03 4.80908369e+02]\n",
      " [0.00000000e+00 0.00000000e+00 1.00000000e+00]]\n",
      "Rotation Matrix: [[-0.9816235  -0.14069016 -0.12892471]\n",
      " [ 0.01677175 -0.7365994   0.67612132]\n",
      " [-0.19008948  0.66153428  0.7254229 ]]\n",
      "Projection Matrix: [[-2.54769234e+02  2.62385954e+01  3.49053627e+01  2.43468858e+03]\n",
      " [-1.43694200e+00 -1.61910918e+02  1.87627414e+02  1.06567677e+03]\n",
      " [-1.15706892e-02  4.02673913e-02  4.41562719e-02  1.00000000e+00]]\n"
     ]
    }
   ],
   "source": [
    "print('Camera Matrix:',mtx)\n",
    "print('Rotation Matrix:',R)\n",
    "#print('Translation Vector',tvecs)\n",
    "print('Projection Matrix:',P)"
   ]
  },
  {
   "cell_type": "code",
   "execution_count": null,
   "metadata": {},
   "outputs": [],
   "source": []
  }
 ],
 "metadata": {
  "kernelspec": {
   "display_name": "Python 3",
   "language": "python",
   "name": "python3"
  },
  "language_info": {
   "codemirror_mode": {
    "name": "ipython",
    "version": 3
   },
   "file_extension": ".py",
   "mimetype": "text/x-python",
   "name": "python",
   "nbconvert_exporter": "python",
   "pygments_lexer": "ipython3",
   "version": "3.7.6"
  }
 },
 "nbformat": 4,
 "nbformat_minor": 4
}
